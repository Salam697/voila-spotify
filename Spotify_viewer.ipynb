{
 "cells": [
  {
   "cell_type": "code",
   "execution_count": null,
   "metadata": {},
   "outputs": [],
   "source": [
    "%matplotlib widget"
   ]
  },
  {
   "cell_type": "code",
   "execution_count": null,
   "metadata": {},
   "outputs": [],
   "source": [
    "from datetime import datetime, timedelta\n",
    "import calendar\n",
    "from glob import glob\n",
    "import json\n",
    "import pathlib\n",
    "\n",
    "import matplotlib.pyplot as plt\n",
    "import seaborn as sns\n",
    "\n",
    "import numpy as np\n",
    "import pandas as pd"
   ]
  },
  {
   "cell_type": "code",
   "execution_count": null,
   "metadata": {},
   "outputs": [],
   "source": [
    "data = []\n",
    "\n",
    "for file in sorted(glob('StreamingHistory*.json')):\n",
    "    with open(file) as fobj:\n",
    "        data.extend(json.load(fobj))\n",
    "\n",
    "streaming_history = pd.DataFrame(data)\n",
    "streaming_history['endTime'] = pd.to_datetime(streaming_history['endTime'])\n",
    "streaming_history[\"date\"] = streaming_history[\"endTime\"].dt.floor('d')"
   ]
  },
  {
   "cell_type": "code",
   "execution_count": null,
   "metadata": {
    "scrolled": true
   },
   "outputs": [],
   "source": [
    "# print('Number of entries:', len(streaming_history))"
   ]
  },
  {
   "cell_type": "code",
   "execution_count": null,
   "metadata": {},
   "outputs": [],
   "source": [
    "by_date = streaming_history.groupby(\"date\")[[\"trackName\"]].count()\n",
    "by_date = by_date.sort_index()\n",
    "\n",
    "by_date[\"weekday\"] = by_date.index.weekday\n",
    "by_date[\"week\"] = by_date.index.week"
   ]
  },
  {
   "cell_type": "code",
   "execution_count": null,
   "metadata": {},
   "outputs": [],
   "source": [
    "week = 0\n",
    "prev_week = by_date.iloc[0][\"week\"]\n",
    "continuous_week = np.zeros(len(by_date)).astype(int)\n",
    "sunday_dates = []\n",
    "for i, (_, row) in enumerate(by_date.iterrows()):\n",
    "    if row[\"week\"] != prev_week:\n",
    "        week += 1\n",
    "        prev_week = row[\"week\"]\n",
    "    continuous_week[i] = week\n",
    "by_date[\"continuous_week\"] = continuous_week"
   ]
  },
  {
   "cell_type": "code",
   "execution_count": null,
   "metadata": {},
   "outputs": [],
   "source": [
    "songs = np.full((7, continuous_week.max()+1), np.nan)\n",
    "\n",
    "for index, row in by_date.iterrows():\n",
    "    songs[row[\"weekday\"]][row[\"continuous_week\"]] = row[\"trackName\"]"
   ]
  },
  {
   "cell_type": "code",
   "execution_count": null,
   "metadata": {},
   "outputs": [],
   "source": [
    "min_date = streaming_history[\"endTime\"].min()\n",
    "first_monday = min_date - timedelta(min_date.weekday())\n",
    "mons = [first_monday + timedelta(weeks=wk) for wk in range(continuous_week.max())]\n",
    "x_labels = [calendar.month_abbr[mons[0].month]]\n",
    "x_labels.extend([\n",
    "    calendar.month_abbr[mons[i].month] if mons[i-1].month != mons[i].month else \"\" \n",
    "    for i in range(1, len(mons))])\n",
    "\n",
    "y_labels = [\"Mon\", \"\", \"Wed\", \"\", \"Fri\", \"\", \"Sun\"]"
   ]
  },
  {
   "cell_type": "code",
   "execution_count": null,
   "metadata": {},
   "outputs": [],
   "source": [
    "x_labels"
   ]
  },
  {
   "cell_type": "code",
   "execution_count": null,
   "metadata": {},
   "outputs": [],
   "source": [
    "songs = np.nan_to_num(songs)"
   ]
  },
  {
   "cell_type": "code",
   "execution_count": null,
   "metadata": {},
   "outputs": [],
   "source": [
    "fig = plt.figure(figsize=(10, 3))\n",
    "fig.canvas.toolbar_visible = False\n",
    "ax = plt.subplot()\n",
    "\n",
    "ax.set_title(\"My year on Spotify\", fontsize=20,pad=40)\n",
    "ax.xaxis.tick_top()\n",
    "ax.tick_params(axis='both', which='both',length=0)\n",
    "ax.set_facecolor(\"#ebedf0\")\n",
    "fig.patch.set_facecolor('white')\n",
    "\n",
    "sns.heatmap(songs, linewidths=2, linecolor='white', square=True,\n",
    "            cmap=\"Greens\", cbar=True,\n",
    "            vmin=0, vmax=np.max(songs), ax=ax)\n",
    "\n",
    "ax.set_yticklabels(y_labels, rotation=0)\n",
    "ax.set_xticklabels(x_labels, ha=\"left\");"
   ]
  }
 ],
 "metadata": {
  "kernelspec": {
   "display_name": "Python 3",
   "language": "python",
   "name": "python3"
  },
  "language_info": {
   "codemirror_mode": {
    "name": "ipython",
    "version": 3
   },
   "file_extension": ".py",
   "mimetype": "text/x-python",
   "name": "python",
   "nbconvert_exporter": "python",
   "pygments_lexer": "ipython3",
   "version": "3.8.1"
  }
 },
 "nbformat": 4,
 "nbformat_minor": 4
}
